{
 "cells": [
  {
   "cell_type": "code",
   "execution_count": 1,
   "metadata": {},
   "outputs": [],
   "source": [
    "import numpy\n",
    "import random\n",
    "from collections import defaultdict\n",
    "import urllib\n",
    "import math\n",
    "import random\n",
    "import collections\n",
    "import string\n",
    "import csv\n",
    "import sys\n",
    "from sklearn.linear_model import LogisticRegression\n",
    "from sklearn.linear_model import LinearRegression\n",
    "import sklearn.metrics\n",
    "from sklearn.svm import LinearSVC\n",
    "from nltk.corpus import stopwords"
   ]
  },
  {
   "cell_type": "code",
   "execution_count": 2,
   "metadata": {},
   "outputs": [
    {
     "name": "stdout",
     "output_type": "stream",
     "text": [
      "Reading labeled data...\n",
      "done\n"
     ]
    }
   ],
   "source": [
    "def parseLabeledData(path):\n",
    "    file=open(path, 'r')\n",
    "    dataList = []\n",
    "    for line in csv.reader(file):\n",
    "        if len(line) == 4:\n",
    "            dataList.append(\n",
    "                {\"asin\":line[0], \n",
    "                 \"question\":line[1],\n",
    "                 \"review\":line[2],\n",
    "                 \"label\":line[3]}\n",
    "            )     \n",
    "    return dataList\n",
    "        \n",
    "\n",
    "print(\"Reading labeled data...\")\n",
    "data = parseLabeledData(\"/Users/Silvia/Desktop/LabelledData.csv\")\n",
    "queries = [d['question'] for d in data]\n",
    "reviews = [d['review'] for d in data]\n",
    "labels = [d['label'] for d in data]\n",
    "print(\"done\")"
   ]
  },
  {
   "cell_type": "code",
   "execution_count": 3,
   "metadata": {},
   "outputs": [
    {
     "name": "stdout",
     "output_type": "stream",
     "text": [
      "Reading all reviews & all questions...\n",
      "done\n"
     ]
    }
   ],
   "source": [
    "def parseAllQueries(path):\n",
    "    file = open(path, 'r')\n",
    "    dataList = defaultdict(lambda: [])\n",
    "    for line in file:\n",
    "        line = eval(line)\n",
    "        dataList[line[\"asin\"]].append(line)\n",
    "      \n",
    "    return dataList\n",
    "\n",
    "def parseAllReviews(path):\n",
    "    file = open(path, 'r')\n",
    "    dataList = defaultdict(lambda: [])\n",
    "    for line in file:\n",
    "        line = eval(line)\n",
    "        dataList[line[\"asin\"]].append(line)\n",
    "      \n",
    "    return dataList\n",
    "\n",
    "print(\"Reading all reviews & all questions...\")\n",
    "allReviews = parseAllReviews(\"/Users/Silvia/Downloads/reviews.json\")\n",
    "allQuestions = parseAllQueries(\"/Users/Silvia/Downloads/qa.json\")\n",
    "\n",
    "# do we have to remove questions that have no reviews or reviews that have no questions??\n",
    "docSet = []\n",
    "for entry in allReviews.values():\n",
    "    for review in entry:\n",
    "        docSet.append(review[\"reviewText\"])\n",
    "\n",
    "for entry in allQuestions.values():\n",
    "    for question in entry:\n",
    "        docSet.append(question[\"question\"])\n",
    "\n",
    "print(\"done\")"
   ]
  },
  {
   "cell_type": "code",
   "execution_count": 27,
   "metadata": {},
   "outputs": [],
   "source": [
    "# @param a word whose frequency in the document we are calculating\n",
    "# @param document a string of a review or a question\n",
    "# @return the frequency of term in document div length of document\n",
    "\n",
    "def tf(term, document):\n",
    "    count = collections.defaultdict(int)\n",
    "    for word in document.split():\n",
    "        count[word] += 1\n",
    "\n",
    "    return count[term]/len(document.split())"
   ]
  },
  {
   "cell_type": "code",
   "execution_count": 13,
   "metadata": {},
   "outputs": [],
   "source": [
    "def findCommonWords():\n",
    "    allWords = defaultdict(int)\n",
    "    englishStopWords = stopwords.words('english')\n",
    "    for r in allReviews.values():\n",
    "        for review in r:\n",
    "            review = review[\"reviewText\"]\n",
    "            exclude = set(string.punctuation)\n",
    "            review = ''.join(ch for ch in review if ch not in exclude)\n",
    "            for w in review.lower().split():\n",
    "                if w not in englishStopWords:\n",
    "                    allWords[w] += 1\n",
    "\n",
    "    for q in allQuestions.values():\n",
    "        for question in q:\n",
    "            question = question[\"question\"]\n",
    "            exclude = set(string.punctuation)\n",
    "            question = ''.join(ch for ch in question if ch not in exclude)\n",
    "            for w in question.lower().split():\n",
    "                if w not in englishStopWords:\n",
    "                    allWords[w] += 1\n",
    "    \n",
    "    \n",
    "    return sorted(allWords, key=lambda x: -allWords[x])[:1000]"
   ]
  },
  {
   "cell_type": "code",
   "execution_count": 14,
   "metadata": {},
   "outputs": [
    {
     "name": "stdout",
     "output_type": "stream",
     "text": [
      "['one', 'use', 'light', 'would', 'like', 'well', 'good', 'great', 'work', 'get', 'used', 'need', 'tool', 'time', 'much', 'also', 'dont', 'easy', 'little', 'really', 'saw', 'works', 'set', 'two', 'product', 'price', 'bought', 'made', 'battery', 'using', 'small', 'nice', 'even', 'im', 'bit', 'batteries', 'quality', 'long', 'better', 'power', 'buy', 'ive', 'could', 'make', 'enough', 'unit', 'tools', 'blade', 'drill', 'led', 'want', 'still', 'way', 'back', 'around', 'lights', 'water', 'first', 'put', 'fit', '2', 'bulb', 'see', 'new', 'switch', 'without', 'bright', 'thing', 'years', 'go', 'got', 'many', 'know', 'size', 'cut', 'plastic', 'find', 'right', 'come', 'old', 'box', 'lot', 'last', 'think', 'door', 'flashlight', 'bulbs', '3', 'recommend', 'keep', 'house', 'sure', 'home', 'another', 'far', 'case', 'cant', 'since', 'doesnt', 'job', 'hold', 'needed', 'something', 'problem', 'seems', 'turn', 'fine', 'makes', 'side', 'easily', 'high', 'say', 'best', 'pretty', 'comes', 'didnt', '4', 'bits', 'wall', 'amazon', 'take', 'top', 'going', 'big', 'install', 'less', 'never', 'handle', 'found', '5', 'every', 'lamp', 'hard', 'different', 'purchased', 'look', 'heavy', 'looking', 'love', 'hand', 'wood', 'may', 'metal', 'head', 'end', 'table', 'perfect', 'though', 'working', 'room', 'installed', 'worked', 'things', 'screws', 'several', 'however', 'place', 'replace', 'able', '1', 'quite', 'base', 'lock', 'model', 'day', '12', 'screw', 'large', 'looks', 'always', 'probably', 'dewalt', 'give', 'three', 'times', 'came', 'kit', 'actually', 'cheap', 'item', 'low', 'blades', 'might', 'color', 'getting', 'open', 'button', 'money', 'worth', 'thats', 'knife', '10', 'system', 'inside', 'white', 'wont', 'fan', 'cutting', 'part', 'wire', 'feel', 'purchase', 'garage', 'couple', 'anyone', 'air', 'year', 'youre', 'night', 'reviews', 'happy', 'piece', 'longer', 'change', 'tried', 'anything', 'design', 'cost', 'run', 'solid', 'standard', 'took', 'control', 'simple', 'replacement', 'review', 'dust', 'almost', 'away', 'extra', 'ever', 'try', 'handy', 'thought', 'type', 'instructions', 'line', 'id', 'everything', 'faucet', 'read', 'router', 'weight', 'stars', 'expensive', 'shower', 'hole', 'ones', 'included', 'excellent', 'inch', 'yet', 'full', 'bosch', 'holes', 'feature', 'tape', 'hose', 'minutes', 'seem', 'wanted', 'life', 'cord', 'isnt', 'remove', '6', 'bad', 'highly', 'months', 'charge', 'close', 'area', 'hours', 'needs', 'easier', 'bottom', 'clean', 'mine', 'device', 'driver', 'said', 'either', 'uses', 'built', 'second', 'plug', 'strong', 'black', 'done', 'perfectly', 'problems', 'cuts', 'finish', 'smaller', 'instead', 'people', 'filter', 'others', 'useful', 'must', 'setting', 'shop', 'etc', 'order', 'pocket', 'store', 'charger', 'tight', 'tell', 'larger', 'buying', 'level', 'bag', 'heat', 'ordered', 'point', 'brand', 'already', 'outside', 'least', 'went', 'steel', 'help', 'left', 'pressure', 'quick', 'hot', 'ill', 'sink', 'quickly', 'sturdy', 'remote', 'front', 'stand', 'fits', 'edge', 'definitely', 'real', 'especially', 'products', 'maybe', 'thanks', 'together', 'making', 'kind', 'takes', 'floor', 'deal', 'car', 'wish', '20', 'cover', 'lighting', 'beam', 'says', 'next', 'installation', 'parts', 'issue', 'speed', 'feet', 'paint', 'kitchen', 'regular', 'carry', 'trying', 'havent', 'gun', 'replaced', 'days', 'outlet', 'nothing', 'short', 'fact', 'rather', 'mount', 'expect', 'ago', 'ceiling', 'hands', 'cable', 'goes', 'although', 'gets', 'stuff', 'dark', 'someone', 'difference', 'single', 'belt', 'let', 'amount', 'exactly', 'half', 'designed', 'youll', 'plus', 'move', 'available', 'sharp', 'ok', '15', 'flat', 'toilet', 'clip', 'pull', '30', 'overall', 'angle', 'often', 'sensor', 'difficult', 'incandescent', 'add', 'wide', 'test', 'length', 'reason', 'else', '14', 'space', 'plate', 'smooth', 'fast', 'free', 'four', 'inches', 'clear', 'wouldnt', 'comfortable', 'impact', 'straight', 'key', 'projects', 'clamp', 'shipping', 'mode', 'received', '8', 'fence', 'powerful', 'decided', 'simply', 'motor', 'range', 'bathroom', 'push', 'start', 'similar', 'leds', 'due', 'expected', 'grip', 'screwdriver', 'reading', 'surface', 'flashlights', 'feels', 'slightly', 'nails', 'duty', 'items', 'issues', 'version', 'sander', 'fairly', 'value', 'brightness', 'red', 'super', 'whole', 'lumens', 'cool', 'adjust', 'rubber', 'seat', 'compact', 'number', 'recommended', 'compared', 'motion', 'material', 'makita', 'temperature', 'pieces', 'leave', 'ladder', 'cheaper', 'square', 'wrench', 'star', 'hammer', 'extension', 'seen', 'pay', 'stay', 'warm', 'theyre', 'output', 'project', 'package', 'fixture', 'mounted', 'turned', 'theres', 'glass', '100', 'pleased', 'chuck', 'wrong', 'picture', 'x', 'us', 'brighter', 'break', 'watt', 'extremely', 'running', 'features', 'wear', 'tip', 'holds', 'position', 'wasnt', 'original', 'construction', 'means', 'press', 'safe', 'save', 'accurate', 'cannot', 'durable', 'socket', 'mounting', 'pack', 'thermostat', 'idea', 'thick', 'drive', 'cordless', 'couldnt', 'manual', 'check', 'allows', 'jobs', 'sometimes', 'adjustable', 'wires', 'holding', 'clamps', 'along', 'decent', 'unless', 'pump', 'pliers', 'finally', 'torque', 'safety', 'plenty', 'aa', 'machine', 'lower', 'older', 'adapter', 'miter', 'gloves', 'gave', 'dimmer', 'started', 'course', 'timer', 'service', 'normal', 'gives', 'center', 'yes', 'guess', 'hardware', 'believe', 'completely', 'spot', 'higher', 'within', 'arrived', 'height', 'units', 'opener', 'alarm', 'warranty', 'seconds', 'attached', 'experience', 'cabinet', '18', 'onoff', 'description', 'touch', 'pair', 'electrical', 'thin', 'nail', 'past', 'soft', 'build', 'stick', 'spray', 'five', 'storage', 'milwaukee', 'dremel', 'usually', 'turns', 'note', 'compressor', '50', 'gauge', 'held', 'local', 'guide', 'diameter', 'attach', 'per', 'installing', 'function', 'bar', 'opening', 'settings', 'nicely', 'loose', 'allow', 'near', 'holder', 'possible', 'cold', 'heater', 'main', 'slide', 'impressed', 'looked', 'glue', 'rating', 'sanding', 'reach', 'jig', 'blue', 'update', 'aluminum', 'onto', 'sizes', 'board', 'addition', 'stop', 'paper', 'mind', 'provide', 'company', 'owned', 'adjustment', 'true', 'putting', 'wife', 'locks', 'tank', 'given', 'support', 'hang', 'weeks', 'switches', 'added', 'current', 'handles', 'foot', 'electric', 'live', 'valve', 'filters', 'volt', 'replacing', 'amp', 'style', 'hour', 'hope', 'required', 'setup', 'fully', 'supposed', 'hook', 'face', 'week', 'removed', 'based', 'require', 'bolts', 'turning', 'energy', 'nailer', 'saws', 'sound', 'glad', 'advertised', 'prefer', 'quiet', 'ring', 'noticed', 'lots', 'strip', 'later', 'purpose', 'entire', 'sets', 'fire', 'otherwise', 'measure', 'return', 'properly', 'please', 'drain', 'important', 'pipe', 'lamps', 'recently', 'degrees', 'appears', 'behind', '25', 'choice', 'multiple', 'knives', 'voltage', 'trigger', 'spend', 'apart', 'dim', 'various', 'tiny', 'flow', 'laser', 'disappointed', 'rated', 'including', 'secure', 'bolt', 'helps', 'likely', 'awesome', 'performance', '34', 'doors', '7', 'huge', 'body', 'professional', 'keeps', 'depth', 'except', 'trim', 'ground', 'bigger', 'devices', 'ac', 'flush', 'ready', 'option', 'assembly', 'connect', 'packaging', 'dimensions', 'month', 'broken', 'double', 'reviewers', 'plan', 'correct', 'nearly', 'noise', 'certainly', 'broke', 'show', 'outdoor', 'matter', '40', 'drilling', 'yellow', 'coming', 'wiring', 'seemed', 'step', 'frame', 'requires', 'care', 'inexpensive', 'cleaning', 'protection', 'name', 'lightweight', 'models', 'mechanism', 'figure', 'surprised', 'collection', 'arent', 'iron', 'basic', 'paid', 'vacuum', 'spring', 'loud', 'tough', 'oil', 'additional', 'cfl', 'middle', 'changing', 'drills', 'access', 'previous', 'customer', 'liked', 'stock', 'green', 'consider', 'dry', 'existing', 'phone', 'china', 'convenient', 'lithium', 'twice', 'complaint', 'vac', 'fix', 'damage', 'round', 'person', 'plugged', 'provided', 'glasses', 'results', 'emergency', 'include', 'brands', 'watts', 'rechargeable', 'mean', 'actual', 'anywhere', 'provides', 'careful', 'portable', 'program', 'across', 'insert', 'anyway', '60', 'drop', 'areas', 'fall', 'accessories', 'remember', 'moving', 'walls', 'sockets', 'stores', 'sides', 'window', 'places', 'attachment', '90', 'runs', 'tighten', 'distance', 'taking', 'stays', 'rest', 'cap', 'trouble', 'absolutely', 'amazing', 'lost', 'ability', 'soon', 'shows', 'general', 'mentioned', 'deep', 'panel', 'snap', 'sold', 'removing', 'repair', 'thinking', 'leatherman', 'flexible', 'supply', 'directions', 'shape', 'tested', 'beat', 'craftsman', 'bucks', 'user', 'throw', 'minor', 'stainless', 'tile', 'total', 'aaa', 'dead', 'rate', 'lens', 'delta', 'screen', 'drywall', 'charging', 'combination', 'pick', 'desk', 'thank', 'operate', 'ease', 'nut', 'boxes', 'complete', 'basement', 'hanging', 'outlets', 'degree', 'whatever', 'sheet', 'tips', '45', 'locking', 'depot', 'considering', 'lighter', 'hit', 'charged', 'plywood', 'maglite', 'keys', 'fixtures', 'security', 'edges', 'arm', 'directly', 'match', 'immediately', 'meter', 'colors', 'shelf', 'placed', 'wheel', 'cell', 'concrete', 'cause', 'somewhat', 'closed', 'limited', 'poor', 'call', 'relatively', 'notice', 'building', 'prevent', 'carrying', 'kids', 'understand', 'perhaps', 'reasonable', 'code', 'chain', 'ends', 'ended', 'wheels', 'mostly', 'sort', 'necessary', 'wait', 'powered', 'stud', 'load', 'fixed', 'lumen', 'complaints', 'unlike', 'site', 'types', '18v', 'opinion', '9', 'market', 'utility', 'today', 'priced', 'keeping', 'worry', 'manufacturer', 'knob', 'usa']\n"
     ]
    }
   ],
   "source": [
    "commonWords = findCommonWords()\n",
    "print(commonWords)"
   ]
  },
  {
   "cell_type": "code",
   "execution_count": 15,
   "metadata": {},
   "outputs": [],
   "source": [
    "idfDict = defaultdict(float)\n",
    "for word in commonWords:\n",
    "    count = 0         \n",
    "    for doc in docSet:\n",
    "        if word in doc.lower():\n",
    "            count += 1\n",
    "    idfScore = math.log(len(docSet)/(count+1))\n",
    "     \n",
    "    idfDict[word] = idfScore"
   ]
  },
  {
   "cell_type": "code",
   "execution_count": 16,
   "metadata": {},
   "outputs": [],
   "source": [
    "def idf(term):\n",
    "    return idfDict[term]"
   ]
  },
  {
   "cell_type": "code",
   "execution_count": 17,
   "metadata": {},
   "outputs": [],
   "source": [
    "def wordToIndex(term):\n",
    "    if term in commonWords:\n",
    "        return commonWords.index(term)\n",
    "    else:\n",
    "        return -1"
   ]
  },
  {
   "cell_type": "code",
   "execution_count": 18,
   "metadata": {},
   "outputs": [],
   "source": [
    "def numCommonWords(review, question):\n",
    "    \n",
    "    filtered_words = [word for word in review.split() if word not in stopwords.words('english')]\n",
    "    num = 0\n",
    "    words = set(filtered_words)\n",
    "    for word in words:\n",
    "        countReview = 0\n",
    "        countQuestion = 0\n",
    "        countReview = review.split().count(word)\n",
    "        countQuestion = question.split().count(word)\n",
    "        \n",
    "        num = num + min(countReview, countQuestion)\n",
    "        \n",
    "    #print(num)\n",
    "    return num"
   ]
  },
  {
   "cell_type": "code",
   "execution_count": 19,
   "metadata": {},
   "outputs": [],
   "source": [
    "def lengthDiff(review, question):\n",
    "    return abs(len(review.split()) - len(question.split()))"
   ]
  },
  {
   "cell_type": "code",
   "execution_count": 20,
   "metadata": {},
   "outputs": [],
   "source": [
    "def tfidf(document):\n",
    "    document = document.lower()\n",
    "    document = ''.join([c for c in document if not (c in string.punctuation)])\n",
    "    \n",
    "    feat = collections.defaultdict(int)\n",
    "    for term in document.split():\n",
    "        tfscore = tf(term, document)\n",
    "        idfscore = idf(term)\n",
    "        feat[term] = tfscore * idfscore\n",
    "    \n",
    "    return feat"
   ]
  },
  {
   "cell_type": "code",
   "execution_count": 21,
   "metadata": {},
   "outputs": [],
   "source": [
    "# queryFeat is a feature vector for the query and reviewFeat is the feature vector for the review\n",
    "def cosineSimilarity(queryFeat, reviewFeat):\n",
    "    # Find the words the 2 dictionaries have in common\n",
    "    querySet = set(queryFeat.keys())\n",
    "    reviewSet = set(reviewFeat.keys())\n",
    "    allWords = querySet.union(reviewSet)\n",
    "    \n",
    "    # Find the cosine similarity\n",
    "    numerator = 0\n",
    "    mag1 = 0\n",
    "    mag2 = 0\n",
    "    for word in allWords:\n",
    "        numerator = numerator + queryFeat[word] * reviewFeat[word]\n",
    "        mag1 = mag1 + queryFeat[word]**2\n",
    "        mag2 = mag2 + reviewFeat[word]**2\n",
    "    if mag1 > 0 and mag2 > 0:\n",
    "        return (numerator/((mag1*mag2)**0.5))\n",
    "    else:\n",
    "        return -1"
   ]
  },
  {
   "cell_type": "code",
   "execution_count": 22,
   "metadata": {},
   "outputs": [],
   "source": [
    "def feature(review, question):\n",
    "    feat = [1]\n",
    "    \n",
    "    #number of Common Words\n",
    "    #difference in length\n",
    "    #length of review\n",
    "    #length of question\n",
    "    feat.append(numCommonWords(review, question))\n",
    "    feat.append(lengthDiff(review,question))\n",
    "    feat.append(len(review.split()))\n",
    "    feat.append(len(question.split()))\n",
    "    cosine = cosineSimilarity(tfidf(review), tfidf(question))\n",
    "    feat.append(cosine)\n",
    "    \n",
    "    return feat"
   ]
  },
  {
   "cell_type": "code",
   "execution_count": 23,
   "metadata": {},
   "outputs": [],
   "source": [
    "def feature_tfidf(review, question):\n",
    "    feat = [1]\n",
    "    feat.append(cosineSimilarity(tfidf(review), tfidf(question)))\n",
    "    return feat\n",
    "    \n",
    "    "
   ]
  },
  {
   "cell_type": "code",
   "execution_count": 24,
   "metadata": {},
   "outputs": [],
   "source": [
    "def normalize(featList):\n",
    "    \n",
    "    max = 0\n",
    "    min = float('inf')\n",
    "    for feat in featList:\n",
    "        if feat > max: max = feat\n",
    "        if feat < min: min = feat        \n",
    "    \n",
    "    for i in range(0,len(featList)-1):\n",
    "        if (max - min) == 0: \n",
    "            max = 1\n",
    "            min = 0\n",
    "        featList[i] = (featList[i] - min) / (max - min)\n",
    "\n",
    "    return featList"
   ]
  },
  {
   "cell_type": "code",
   "execution_count": 25,
   "metadata": {},
   "outputs": [],
   "source": [
    "def constrain(elems):\n",
    "    for elem in elems:\n",
    "        if (elem > 0.5): yield 1\n",
    "        else: yield 0\n",
    "        #if elem > 1: yield 1\n",
    "        #elif elem < 0: yield 0\n",
    "        #else: yield elem"
   ]
  },
  {
   "cell_type": "code",
   "execution_count": 31,
   "metadata": {},
   "outputs": [
    {
     "name": "stdout",
     "output_type": "stream",
     "text": [
      "Our algo\n",
      "[1, 1, 1, 0, 0, 0, 0, 1, 0, 0, 0, 0, 0, 0, 0, 1, 1, 0, 0, 0, 1, 0, 0, 0, 0, 0, 1, 0, 0, 0, 0, 0, 0, 0, 0, 0, 0, 0, 0, 0, 0, 0, 0, 1, 0, 0, 0, 0, 0, 0, 0, 0, 0, 1, 0, 0, 0, 0, 0, 0, 0, 0, 0, 0, 0, 0, 0, 0, 0, 0, 1, 0, 0, 0, 0, 0, 1, 1, 0, 0, 0, 0, 0, 0, 0, 0, 0, 0, 1, 0, 0, 0, 1, 0, 1, 0, 0, 0, 0, 1, 0, 0, 0, 0, 0, 1, 1, 0, 0, 0, 0, 0, 0, 0, 0, 0, 0, 0]\n",
      "[1, 0, 0, 0, 0, 0, 0, 0, 0, 0, 0, 0, 0, 0, 0, 0, 0, 0, 0, 0, 0, 0, 0, 0, 0, 0, 0, 0, 0, 0, 0, 0, 0, 0, 0, 0, 0, 0, 0, 0, 0, 0, 0, 0, 0, 0, 0, 0, 0, 0, 0, 0, 0, 0, 0, 0, 0, 0, 0, 0, 0, 0, 0, 0, 0, 0, 0, 0, 0, 0, 0, 0, 0, 0, 0, 0, 0, 0, 0, 0, 1, 0, 0, 0, 0, 0, 0, 0, 1, 0, 0, 0, 0, 0, 0, 0, 0, 0, 0, 0, 0, 0, 0, 0, 0, 0, 0, 0, 0, 0, 0, 0, 0, 0, 0, 0, 0, 0]\n",
      "train:\n",
      "accuracy:  0.8050847457627118 \t precision:  0.75 \t recall:  0.12 \t auc:  0.5546236559139786 \t f1:  0.20689655172413793\n",
      "test:\n",
      "accuracy:  0.847457627118644 \t precision:  0.6666666666666666 \t recall:  0.10526315789473684 \t auc:  0.5475810738968634 \t f1:  0.18181818181818182\n",
      "\n",
      "\n",
      "Not our algo -- (this one actually works) -- or not lol\n",
      "[1, 1, 1, 0, 0, 0, 0, 1, 0, 0, 0, 0, 0, 0, 0, 1, 1, 0, 0, 0, 1, 0, 0, 0, 0, 0, 1, 0, 0, 0, 0, 0, 0, 0, 0, 0, 0, 0, 0, 0, 0, 0, 0, 1, 0, 0, 0, 0, 0, 0, 0, 0, 0, 1, 0, 0, 0, 0, 0, 0, 0, 0, 0, 0, 0, 0, 0, 0, 0, 0, 1, 0, 0, 0, 0, 0, 1, 1, 0, 0, 0, 0, 0, 0, 0, 0, 0, 0, 1, 0, 0, 0, 1, 0, 1, 0, 0, 0, 0, 1, 0, 0, 0, 0, 0, 1, 1, 0, 0, 0, 0, 0, 0, 0, 0, 0, 0, 0]\n",
      "[0, 0, 0, 0, 0, 0, 0, 0, 0, 0, 0, 0, 0, 0, 0, 0, 0, 0, 0, 0, 0, 0, 0, 0, 0, 0, 0, 0, 0, 0, 0, 0, 0, 0, 0, 0, 0, 0, 0, 0, 0, 0, 0, 0, 0, 0, 0, 0, 0, 0, 0, 0, 0, 0, 0, 0, 0, 0, 0, 0, 0, 0, 0, 0, 0, 0, 0, 0, 0, 0, 0, 0, 0, 0, 0, 0, 0, 0, 0, 0, 0, 0, 0, 0, 0, 0, 0, 0, 0, 0, 0, 0, 0, 0, 0, 0, 0, 0, 0, 0, 0, 0, 0, 0, 0, 0, 0, 0, 0, 0, 0, 0, 0, 0, 0, 0, 0, 0]\n",
      "train:\n",
      "accuracy:  0.788135593220339 \t precision:  0.0 \t recall:  0.0 \t auc:  0.5 \t f1:  0.0\n",
      "test:\n",
      "accuracy:  0.8389830508474576 \t precision:  0.0 \t recall:  0.0 \t auc:  0.5 \t f1:  0.0\n",
      "\n",
      "\n"
     ]
    },
    {
     "name": "stderr",
     "output_type": "stream",
     "text": [
      "/Library/Frameworks/Python.framework/Versions/3.6/lib/python3.6/site-packages/sklearn/metrics/classification.py:1135: UndefinedMetricWarning: Precision is ill-defined and being set to 0.0 due to no predicted samples.\n",
      "  'precision', 'predicted', average, warn_for)\n",
      "/Library/Frameworks/Python.framework/Versions/3.6/lib/python3.6/site-packages/sklearn/metrics/classification.py:1135: UndefinedMetricWarning: F-score is ill-defined and being set to 0.0 due to no predicted samples.\n",
      "  'precision', 'predicted', average, warn_for)\n"
     ]
    }
   ],
   "source": [
    "def pipeline(X, y):\n",
    "\n",
    "    random.seed(171727)\n",
    "    \n",
    "    for j in range(0,len(X[0])):\n",
    "        featList = []\n",
    "        for i in range(0,len(X)-1):\n",
    "            featList.append(X[i][j])\n",
    "        featList = normalize(featList)\n",
    "        for i in range(0,len(X)-1):\n",
    "            X[i][j] = featList[i]\n",
    "    \n",
    "    keys = list(range(1, len(labels)))\n",
    "    points = dict(zip(keys, zip(X, y)))\n",
    "    random.shuffle(keys)\n",
    "    X = [points[key][0] for key in keys]\n",
    "    y = [points[key][1] for key in keys]\n",
    "    \n",
    "    X_train = X[:len(X)//2]\n",
    "    y_train = y[:len(y)//2]\n",
    "    \n",
    "    X_test = X[len(X)//2:]\n",
    "    y_test = y[len(y)//2:]\n",
    "    \n",
    "    \n",
    "    #theta,residuals,rank,s = numpy.linalg.lstsq(X_train, y_train, rcond=None)\n",
    "    \n",
    "    #X_train = numpy.matrix(X_train)\n",
    "    #y_train = numpy.matrix(y_train).T\n",
    "    #theta = numpy.matrix(theta).T\n",
    "    #y_hatTrain = X_train * theta\n",
    "    \n",
    "    #X_test = numpy.matrix(X_test)\n",
    "    #y_test = numpy.matrix(y_test).T\n",
    "    #y_hatTest = X_test * theta\n",
    "    \n",
    "    # Find mean of Training and Test\n",
    "    #y_barTrain = (sum(y_train) / len(y_train))\n",
    "    #y_barTest = (sum(y_test) / len(y_test))\n",
    "    \n",
    "    #print(r2_score(y_test, y_hatTest))\n",
    "    \n",
    "    #clf = LinearSVC(random_state=0, C=1.0)\n",
    "    #clf.fit(X_train, y_train)\n",
    "    #y_hatTrain = clf.predict(X_train)\n",
    "    #y_hatTest = clf.predict(X_test)\n",
    "    \n",
    "    # the accuracy score is very .77. Regardless of the C we chose. But the C score DID, in fact, impact our\n",
    "    # training accuracy\n",
    "    \n",
    "    \n",
    "    lr = LinearRegression()\n",
    "    lr.fit(X_train, y_train)\n",
    "    y_hatTrain = lr.predict(X_train)\n",
    "    y_hatTest = lr.predict(X_test)\n",
    "    \n",
    "    #print(X_train)\n",
    "    \n",
    "    y_hatTrain = list(constrain(y_hatTrain))\n",
    "    y_hatTest = list(constrain(y_hatTest))\n",
    "    \n",
    "    \n",
    "    \n",
    "    \n",
    "    #print(y_hatTrain)\n",
    "    print(y_test)\n",
    "    print(y_hatTest)\n",
    "    \n",
    "    print(\"train:\")\n",
    "    #print(sklearn.metrics.r2_score(y_train, y_hatTrain))\n",
    "    print(\"accuracy: \", sklearn.metrics.accuracy_score(y_train, y_hatTrain), \"\\t\", \\\n",
    "          \"precision: \", sklearn.metrics.precision_score(y_train, y_hatTrain), \"\\t\", \\\n",
    "          \"recall: \", sklearn.metrics.recall_score(y_train, y_hatTrain), \"\\t\", \\\n",
    "          \"auc: \", sklearn.metrics.roc_auc_score(y_train, y_hatTrain), \"\\t\", \\\n",
    "          \"f1: \", sklearn.metrics.f1_score(y_train, y_hatTrain))\n",
    "          \n",
    "    print(\"test:\")\n",
    "    #print(sklearn.metrics.r2_score(y_test, y_hatTest))\n",
    "    print(\"accuracy: \", sklearn.metrics.accuracy_score(y_test, y_hatTest), \"\\t\", \\\n",
    "          \"precision: \", sklearn.metrics.precision_score(y_test, y_hatTest), \"\\t\", \\\n",
    "          \"recall: \", sklearn.metrics.recall_score(y_test, y_hatTest), \"\\t\", \\\n",
    "          \"auc: \", sklearn.metrics.roc_auc_score(y_test, y_hatTest), \"\\t\", \\\n",
    "          \"f1: \", sklearn.metrics.f1_score(y_test, y_hatTest))\n",
    "    \n",
    "\n",
    "print(\"Our algo\")\n",
    "X = [feature(d[\"review\"], d[\"question\"]) for d in data]\n",
    "y = [1 if l == \"y\" else 0 for l in labels]\n",
    "pipeline(X, y)\n",
    "print(\"\\n\")\n",
    "\n",
    "print(\"Not our algo -- (this one actually works) -- or not lol\")\n",
    "X = [feature_tfidf(d[\"review\"], d[\"question\"]) for d in data]\n",
    "y = [1 if l == \"y\" else 0 for l in labels]\n",
    "pipeline(X, y)\n",
    "print(\"\\n\")\n",
    "    \n",
    "    \n"
   ]
  },
  {
   "cell_type": "code",
   "execution_count": null,
   "metadata": {},
   "outputs": [],
   "source": []
  },
  {
   "cell_type": "code",
   "execution_count": null,
   "metadata": {},
   "outputs": [],
   "source": []
  },
  {
   "cell_type": "code",
   "execution_count": null,
   "metadata": {},
   "outputs": [],
   "source": []
  },
  {
   "cell_type": "code",
   "execution_count": null,
   "metadata": {},
   "outputs": [],
   "source": []
  }
 ],
 "metadata": {
  "kernelspec": {
   "display_name": "Python 3",
   "language": "python",
   "name": "python3"
  },
  "language_info": {
   "codemirror_mode": {
    "name": "ipython",
    "version": 3
   },
   "file_extension": ".py",
   "mimetype": "text/x-python",
   "name": "python",
   "nbconvert_exporter": "python",
   "pygments_lexer": "ipython3",
   "version": "3.6.4"
  }
 },
 "nbformat": 4,
 "nbformat_minor": 2
}
