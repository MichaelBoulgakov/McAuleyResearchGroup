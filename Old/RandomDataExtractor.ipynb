{
 "cells": [
  {
   "cell_type": "code",
   "execution_count": 117,
   "metadata": {},
   "outputs": [],
   "source": [
    "import numpy\n",
    "import random\n",
    "from collections import defaultdict\n",
    "import urllib\n",
    "import math\n",
    "import random\n",
    "import collections\n",
    "import string"
   ]
  },
  {
   "cell_type": "code",
   "execution_count": 2,
   "metadata": {},
   "outputs": [
    {
     "name": "stdout",
     "output_type": "stream",
     "text": [
      "Reading data...\n",
      "done\n"
     ]
    }
   ],
   "source": [
    "def parse(path):\n",
    "  file = open(path, 'r')\n",
    "  for l in file:\n",
    "    yield eval(l)\n",
    "\n",
    "print(\"Reading data...\")\n",
    "products = list(parse(\"C:\\Users\\Moi\\Downloads\\reviews.json\"))\n",
    "# http://jmcauley.ucsd.edu/data/amazon/qa/qa_Tools_and_Home_Improvement.json.gz\n",
    "qa = list(parse(\"C:\\Users\\Moi\\Downloads\\qa.json\"))\n",
    "print(\"done\")"
   ]
  },
  {
   "cell_type": "code",
   "execution_count": 100,
   "metadata": {},
   "outputs": [],
   "source": [
    "reviews = defaultdict(lambda: [])\n",
    "for product in products:\n",
    "    reviews[product[\"asin\"]].append(product[\"reviewText\"])"
   ]
  },
  {
   "cell_type": "code",
   "execution_count": 101,
   "metadata": {},
   "outputs": [],
   "source": [
    "def tf(term, document):\n",
    "    count = collections.defaultdict(int)\n",
    "    for word in document.split():\n",
    "        count[word] += 1\n",
    "\n",
    "    return count[term]/len(document.split())"
   ]
  },
  {
   "cell_type": "code",
   "execution_count": 112,
   "metadata": {},
   "outputs": [],
   "source": [
    "# docDict is the union of a question and the set of all reviews for said question.\n",
    "def idf(term, docSet):\n",
    "    count = 0\n",
    "    for doc in docSet:\n",
    "        if term in doc.lower():\n",
    "            count += 1\n",
    "    return math.log(len(docSet)/(count+1))"
   ]
  },
  {
   "cell_type": "code",
   "execution_count": 132,
   "metadata": {},
   "outputs": [],
   "source": [
    "def feature(document, docSet):\n",
    "    document = document.lower()\n",
    "    document = ''.join([c for c in document if not (c in string.punctuation)])\n",
    "    \n",
    "    feat = collections.defaultdict(int)\n",
    "    for term in document.split():\n",
    "        feat[term] = tf(term, document) * idf(term, docSet)\n",
    "    return feat"
   ]
  },
  {
   "cell_type": "code",
   "execution_count": 133,
   "metadata": {},
   "outputs": [],
   "source": [
    "# queryFeat is a feature vector for the query and reviewFeat is the feature vector for the review\n",
    "def cosineSimilarity(queryFeat, reviewFeat):\n",
    "    # Find the words the 2 dictionaries have in common\n",
    "    querySet = set(queryFeat.keys())\n",
    "    reviewSet = set(reviewFeat.keys())\n",
    "    allWords = querySet.union(reviewSet)\n",
    "    \n",
    "    # Find the cosine similarity\n",
    "    numerator = 0\n",
    "    mag1 = 0\n",
    "    mag2 = 0\n",
    "    for word in allWords:\n",
    "        numerator = numerator + queryFeat[word] * reviewFeat[word]\n",
    "        mag1 = mag1 + queryFeat[word]**2\n",
    "        mag2 = mag2 + reviewFeat[word]**2\n",
    "    if mag1 > 0 and mag2 > 0:\n",
    "        return (numerator/((mag1*mag2)**0.5))\n",
    "    else:\n",
    "        return -1"
   ]
  },
  {
   "cell_type": "code",
   "execution_count": 137,
   "metadata": {},
   "outputs": [],
   "source": [
    "def randomQuestion(qa, reviews):\n",
    "    numReviews = 0\n",
    "    while numReviews < 100:\n",
    "        question = random.choice(qa)\n",
    "        questionText = question['question']\n",
    "        asin = question['asin']\n",
    "\n",
    "        numReviews = len(reviews[asin])\n",
    "    \n",
    "    # reviewsSet is list of all review text for this product\n",
    "    reviewsSet = reviews[asin]\n",
    "    # docDict is union of questionText and reviewsDoc\n",
    "    docSet = list(reviewsSet)\n",
    "    docSet.append(questionText)\n",
    "    \n",
    "    # Make dictionaries for the query and review\n",
    "    queryFeat = feature(questionText, docSet)\n",
    "    cosSimList = {review : cosineSimilarity(queryFeat, feature(review, docSet)) for review in reviewsSet}\n",
    "    cosSimList = sorted(cosSimList.items(), key=lambda x:x[1])\n",
    "    \n",
    "    reviewSample = [review[0] for review in cosSimList[:5]]\n",
    "    reviewSample = reviewSample + [review[0] for review in cosSimList[-5:]]\n",
    "    \n",
    "    print(questionText)\n",
    "    print(cosSimList[-3:])\n",
    "    \n",
    "    return (asin, questionText, reviewSample)\n",
    "    \n",
    "    "
   ]
  },
  {
   "cell_type": "code",
   "execution_count": 138,
   "metadata": {},
   "outputs": [
    {
     "name": "stdout",
     "output_type": "stream",
     "text": [
      "What size battery will this take. AA or AAA? I am not familiar with what an \"18650\" is.\n",
      "[(\"The Ultrafire 502b flashlight is just ok.  It requires the the 18650 rechargeable battery.  Alternately the Ultrafire Cree XML-T6 is a brighter inexpensive 5mode 18650 flashlight.  This unit cannot focus and is not as bright as the XML-T6.  Overall it's ok but there are better options.If you go with any flashlight using and 18650 battery consider the Obtronix protected 18650 3400mah rechargable batteries with the Nitecore charger.\", 0.11558124376240016), (\"I have about 50 led flashlights and always looking for one brighter that the other. I bought this for it's size to fit in my pocket but I was amazed at the brightness and the quality of this little flashlight. This little thing out performed some of my dual battery led lights so I am ordering a couple more for my mom and dad.I highly recommend getting a digital charger that you can see the charging in digital numerals. Those have a overcharge shut off switch and it will not charge a bad battery.Not to scare anyone but these batteries are pushed to the max and any rechargeable battery including AA or AAA should be charged with a quality charger with all of these protections built in.Using a cheap charger is how my daughters new home burnt to the ground  so again, not to scare you but buy a quality charger that has all of these shut off features in them plus they also charge much faster that the cheap ones !!\", 0.11831340748694961), ('There are many other flashlights you can buy for under 20 dollars that are going to be a much better purchase. as of 12/12/2013 I bought 3 similar size flashlights by duracell from Costco for 15 bucks for all 3 with a brightness of 200 lumens that take 3 aaa batteries. The problem and issue I have with the 502b is the battery for this flashlight. If you do not already have the battery and charger do not bother with this flashlight. It will cost you at least 30 bucks for the battery and charger. the battery will not hold a charge for ore than 14 days and does not have a long use time. The battery is also dangerous. Lithium Iron batteries can not get wet or be punctured or go through a drastic rapid temperature change or the battery can actually explode. you can not find it everywhere because no one in their right mind will have it in their retail store.', 0.17873241662235637)]\n",
      "Can it be heard clearly in multiple rooms of a large house?\n",
      "[('Pros:This doorbell was unbelievably easy to install.  It is pretty much as simple as putting batteries into the two parts (doorbell and chime), then mounting the doorbell on your home using included screws.  Literally took me less than 15 minutes.  I plan to order a second doorbell for the back door and sync it with the same chime unit (this model will support up to 3 doorbells).Cons:The chime is not particularly loud.  If you have a large or multi-level home, it may not be loud enough to be heard throughout your house, even with the volume set on the loudest setting.  Also, on my chime, it seemed like the sound quality was not as good with the chime set to full volume.The doorbell itself is large due to the fact that it needs to hold both a battery, and a wireless transmitter.  It definitely looks a little chunky on the front of my house compared to my previous doorbell.Overall:This is a good doorbell for use in small to medium sized homes where you do not wish to run wires to the front and/or back doors.  It is easy to install and the chime unit is small, easy to mount, and sharp looking.', 0.11808039017819642), (\"I need to purchase a 2nd unit to be able to hear upstairs and downstairs. The chime at full volume can not be heard two rooms away if your house is not an open concept house. We installed ours in the stair case hoping that it's central location would make it audible from everywhere in our small 1500 square foot house but we were wrong. Hopefully two of these units work together with one set of remotes so we can hear the door-bell upstairs and downstairs\", 0.17040676640439537), ('A great system. Easy to set and install. Sounds nice and loud enough for my use. You can have multiple Honeywell bells set up to this one unit', 0.18443372346801126)]\n",
      "can these be used with dusk to dawn outdoor sensor fixtures?\n",
      "[(\"Great product with a long life, however 60W equivalent is pretty low, if you are using for a desk lamp you probably want: GE 26 Watt Energy Smart CFL - 6 Pack - 100 Watt Replacement, a little brighter, last just as long. I use the 60W bulbs for hanging fixtures in the kitchen which don't need to light up as much area.\", 0.05226409377572655), ('I am a landlord who owns and manages several properties. I have also, \"flipped\" a few properties over the years. Each time I am about to lease a house or put it up for sale, I always purchase several packages of the GE 13 watt CFL bulbs for the light fixtures in an effort to go green and give the upcoming occupant a truly turnkey property. For the price, these light bulbs are excellent! The light output is adequate and the size/ shape of the bulb fits in all fixtures that we have put them in. If more light is desired, there is a 26 watt version too. So far, no one has complained about these lights. In fact, tenants and buyers appreciate the fact that we have energy saving bulbs already installed.  Amazon does a fabulous job of packaging. I have never received a broken bulb!I use these bulbs in my own residence and have noticed a lower utility bill. The light temperature is highly comparable to standard bulbs. They turn on instantly and warm up to full capacity in a mere 2-3 seconds regardless of it they are used indoors or outdoors. They last for an exceptionally long period and come with a 9 year warranty.', 0.05831037461167759), ('87 cents a bulb?  Can\\'t beat that.  They are somewhat longer than a typical \"A\" bulb (which is just the classic bulb shape), so inspect your current fixtures beforehand.  The packaging says they\\'re good down to 5F, so I imagine they\\'d be fine in an outside enclosure.Update: Would I still recommend them in 2013?  Probably not, at least not for frequently used lights.  LED\\'s are capable of offering a far more pleasing color temperature, and while they\\'re still expensive, prices are falling.  If a bulb is infrequently used, you can get away with old fashion bulbs, until the government bans them, that is.', 0.058362927756889074)]\n",
      "d o i have to purchase anything extra for nest to work on smart phone\n",
      "[('Great product and easy to setup - bought about two months ago. Works great with iPad, smart phone or computer.', 0.11652899830661698), ('My first piece of advise is to not be put off by the price of the Nest Thermostat.  Last month I had the lowest electric bill in 7 years - $50 less than any previous bill, and I attribute the savings to the Nest.  I believe the Nest has paid for itself with lower utility bills in about 6 months.  It may cost a few dollars more than other programable thermostats, but if the cheaper one is difficult to use you will eventually stop using the programable features and you\\'ve wasted your money.  Not only is the Nest easy to use on the wall, but the apps for the iPad, iPhone, and web based interfaces allow the owner to make adjustments from anywhere in the world as long as you have an internet connection.  In combination with the \"auto away\" feature and using the web based applications to adjust the temperature when away from home, I\\'m confident I save energy every single day by not heating or a cooling a house when I\"m away.The \"auto-away\" features is one of the best features of the Nest.  Not only does it sense when you\\'re away and shut off the HVAC system, you can easily program it using a temperature range (in my case 60 - 80F) so that the house doesn\\'t freeze or get too hot.It\\'s a genius design and it even looks great on the wall.I installed the Nest myself in about 30 minutes.  I did have a question because it appeared that I had an extra wire and didn\\'t know what to do with it.  I called Nest technical support and was pleased to talk with a very polite and articulate American in California whose primary language was english.  He assured me the extra wire was inconsequential and talked me through the completion of the installation.', 0.11736225197976204), (\"Love being able to change the temp from my smart phone! It's also really nice to what the temp is (if you have pets).. Integrates perfectly with the Nest smoke detector / Carbon Monoxide detectors (so you can see all the conditions on your smart phone)\", 0.12374075229578557)]\n"
     ]
    },
    {
     "name": "stdout",
     "output_type": "stream",
     "text": [
      "Can this one stand on its own? I want to put in on my night stand and NOT stick to a wall, is it possible?\n",
      "[('I travel a lot and have always had to leave a hotel bathroom light on so I could find my way in the dark of a strange room.  I took one of these on a month-long trip to Europe last summer and it worked perfectly.  You just place the small unit on a counter or table which is between you and the bathroom.  When you stand up it the light goes on and you can walk safely.  I have recommended them for all my friends.', 0.11013975562285927), ('These work fine but do NOT stick on well.', 0.14353199051737145), (\"Just stand them on the floor....light up fast and stay lit long enough to get where you're going. They work.\", 0.16737877117620345)]\n",
      "Has anyone else had trouble with the flashlight not always turning on? Not sure what's wrong with it because I just got it.\n",
      "[(\"Pros-Waterproof as advertised-Powerful beam with good spread, not sure on battery life yetCons-Feels cheap.  I haven't dropped it yet so I don't know how durable it really is, but it sure doesn't feel it\", 0.11459683578508295), (\"What's not to like?  Uses AA batteries.  Now every gadget I have uses AA batteries.  Sits in a drawer by the back door.  Is easy to find  in the drawer and fits the hand well.  Can slip into the back pocket easily.  Very bright and lights up a wide area.  Does not focus down to a narrow beam if that's what you need.  Says its waterproof - looks like it.\", 0.12277084927154139), (\"And dont' get me wrong, I know, you can't expect much from a $7-$8 flashlight, I'm always the first to admit this.  I was a little disappointed with the build/construction of the flashlight, and the non-uniform output.  Where this flashlight DOES excel, is that it's cheap enough to throw around the car, drawer, or anywhere else for a quick, cheap, flashlight need and not have to worry about losing.  Don't expect wonders!\", 0.14855161645823972)]\n",
      "Can this seat be installed on a toilet with an elongated skirt? Can't reach underneath to tighten the bolts. Must be done from the top.\n",
      "[(\"This toilet seat attractive and of solid construction. It says it is coated wood and it is certainly heavy enough to inspire confidence that this is, in fact, the case.Installation was simple once the old seat was removed. The seat itself has two twist latches that lock onto plastic plugs. Lock the plugs in place, place the seat on the base with the plugs going through the standard bolt holes. Hand tighten the long nuts underneath, straighten the seat and then fully tighten the bolts with a wrench.Once installed a quick twist of the two latches and the seat lifts off for easy cleaning of the seat and the top of the base in usually hard to reach obscured places.The sprung mechanism that makes the seat drop slowly works like a charm and is almost silent. My husband said that he will have to watch out when using toilets elsewhere as he will be taking this feature for granted and dropping the lid wherever he goes.So this is definitely an improvement over your average toilet seat and I highly recommended it if you're looking for a replacement toilet seat.\", 0.12889266455141046), (\"You can pay more for a toilet seat. But unless you are looking for a special design to coordinate with a special toilet, this one is a good value.  It's sturdy, clean, nice-looking, and the soft-close feature is an added bonus.  I have not had it for long, so I can't comment on the hinge durability problem that one of the other reviewers mentioned.  If it disappoints me, I will update.\", 0.15088990794329304), (\"What do I mean by &#34;Stupid Proof?&#34; First of all, it comes with self-torquing bolts -- these are what holds the seat to the toilet bowl. These bolts are designed to break in two once the proper amount of torque has been applied, preventing you from tightening it further, while also leaving the other half of the bolt in place so that you can easily remove it when it's time for a new one. This is a big deal and a primary reason for that fifth star. On every other brand of seat I've ever seen, the bolts are simple plastic wing nuts that, if not tightened enough, allow the seat to slip and slide all over the bowl, a major safety hazard. Then there's the flip side &#8212; If you tighten those other brand's wing nuts too much, you can also strip them and, well, good luck with the replacement nuts and screws you'll find at the hardware store because they usually don't fit correctly and you end up with the aforementioned slip-and-slide issue all over again.Another benefit of this seat is the slow-close hinges, which prevent potential damage to the toilet by the thump of a heavy wooden seat and lid, as well as the unsettling middle-of-the-night noise a heavy seat makes when it's dropped on accident by weary fingers.There are other slow-close seats, though the ones I've seen are mostly plastic, not wood like this one. I hate plastic for one simple reason &#8212; you can't sit on the lid. You can sit on this wood lid when it's closed. But, if you're an average-sized adult and you try that with a plastic lid, you're likely to hear and feel the telltale snap that can mean only one thing &#8212; time to go buy another seat. I can't imagine that happening with this seat &#8230;ever.\", 0.15479287406761227)]\n",
      "Will this sharpen a carbon steel blade like a Ka-Bar?\n",
      "[(\"Over the years I developed the skill to use sharpening stones and strops. My wife is an amateur chef and appreciates blades that have razor sharp edges. I was very skeptical over this item but having heard the Cooks County review and reading other reviews here, I thought I'd get it for my wife to use.To my great surprise this thing works great. A very dull knife may require several aggressive swipes to get a good edge, but a knife with an already decent edge will quickly be very sharp. On a dull knife there will be some shavings which at first disturbed me, but I realized I probably would be taking off the same amount using my diamond stone to get a new edge. The big difference is this tool did it in seconds and no skill was required.I quickly realized that the trick is to go very gently at first. Let the tool set the edge. Once it sets a reasonably sharp edge, a few very light swipes will create close to a razor edge. If you are a nut like me and appreciate a true razor edge, a few passes on a fine stone and a light stropping will do the job.I also found that while it will get a good edge on even a cheap knife, good blades will develop a sharper, finer much longer lasting edge.I cannot attest to how long this tool will last. I now have sharpened several dozen knives of all types of steel and it has yet to quit. I use a honing steel each time I use a knife to maintain the edge, and that may lessen the number of times I need to use this tool. So it seems like it will last for a year or more. Not bad for an item that costs less than $10 and is this easy to use.Capt Tom\", 0.10408359996123218), (\"I bought this instead of replacing a worn steel that I had been using.  This is the easiest, most effective sharpener that I have ever used.  I have now purchased several for our friends and for use at our cabin - even have one in my camping set.  It should be noted that this will not give a true razor sharp edge like expensive water stones or buffing wheels will, but that is not necessary (or even desirable) for cooking knives.  An effective knife for cooking will have a microscopic burr on one side so that it effectively SLICES the food.  That is actually what a steel does.  This unit creates such an edge, and unlike a steel, it will easily renew a truly dull knife without the need for sharpening stones.  Buy it - you won't be disappointed.\", 0.1186628868163187), (\"Great for Stainless Steel blades. Not good at all for Carbon Steel blades! I sharpened all of my pocket knives, & household knives with this, & it worked great! When I tried sharpening my old military (Carbon Steel) knives, I realized it seemed to be doing more harm than help. I think it simply isn't intended for hard steel. But with stainless knives, I'm very impressed!\", 0.2795848531538553)]\n",
      "There dosen't seem to be a purchase now button from my cart. How can I purchase this item?\n",
      "[(\"they are made that's about it, not plated, item was as shown. price was fine and they seem to fit ok .\", 0.14730063337171653), ('These are just what I needed to compliment my purchase of a drill-driver.  I have used others and they did not serve well.  These seem to be well made and durable.', 0.16747716197074478), ('This is a must need for anyones toolbox. I would reccomend anyone buy this item for your Battery Tools. It is a must item. Great purchase and delivery !!!', 0.2177234686785445)]\n"
     ]
    },
    {
     "name": "stdout",
     "output_type": "stream",
     "text": [
      "wow, lots of the same questions over and over. new one - is the angle of the light adjustable? it appears to only point straight out?\n",
      "[('I was unsure of this products lighting. But when I installed this and tested at night wow this is bright. It lights up the whole area. The batteries are removable and you can charge these with the proper charge for the battery type. Save yourself 4 days of charging using the solar panel as recommended by manufacture.', 0.07559907058896266), (\"Pros:Nice, bright light - better than expected.Adjustable settings for: 1. what constitutes dusk when the light begins to motion sense; 2. how sensitive the IR detector is to movement, and; 3. how long the light remains on.Selectable modes for auto, on, or off.IR sensor is adjustable up / down and left / right, separate from light.Power cord from solar cell is very long and gives you more flexibility on installation locations.Cons:Mounting hardware (not the units themselves) is not galvanized or otherwise weather resistant (e.g. stainless).  I used a silicon based caulk to cover screw heads and seams.Light is only adjustable up / down so getting the light to face where you want may involve mounting additional hardware.Adjustable settings have considerable hysteresis.  (I was up and down a ladder many times)I bought three of these; two of them took considerable time (15+ minutes) to start turning off in Auto mode, even with the sensitivity and time adjustments minimized.  The third worked as soon as the switch was turned.  All three had been given the same amount of time to charge beforehand (5 days).I took one star for setup because I had almost given up on two of the three purchased.  The adjustment settings were initially unresponsive and the lights just stayed on in Auto mode.  When they finally turned off, everything started working as indicated.  The adjustment knobs are not linear, so I recommend getting a second person to perform a walking test so that the first can stay on the ladder to tweak the settings.  Also recommend using some sealant on the mounting hardware to keep it from rusting.  I kept picturing two years from now: we're inside and something hits the side of our house and it looks like someone is shining a flashlight in the window as one of these lights breaks away and dangles from the power cord because of cheap hardware.Once we were able to move beyond the setup and enjoy them, these lights redeemed some stars for how bright they are and the fact that they're solar with motion detection.  I truly didn't expect the intensity to be this good and to last for so long.  I'm sure this will vary with the availability of optimal charging sunlight, but the performance, brightness, function, and price are well worth it so far.FYI - the solar cell mounts to a ball-joint bracket on one of the long sides.  The quickest comparison that comes to mind is the rearview mirror in a car.  Except the range of movement is better on the solar cell.  360 degrees of rotation, and 180 degrees of tilt.  Combine this with the length of power cord supplied and you have greater latitude on where you can install everything.Very happy with this purchase and would definitely recommend it to others.  Feel free to respond with any questions or feedback.  I'll try to remember to post a follow up in 6 months and see how they're holding up.\", 0.07856828753792308), ('This light is one of the best I have every gotten...I love solar and have lots of it but this light is bright and I have yet to see it the battery go down overnight even when the day before was cloudy!!!', 0.09122375305063342)]\n"
     ]
    }
   ],
   "source": [
    "with open(\"C:\\Users\\Moi\\Downloads\\out.csv\", 'w') as the_file:\n",
    "    for i in range(0,2):\n",
    "        asin, question, reviewSample = randomQuestion(qa, reviews)\n",
    "        for review in reviewSample:\n",
    "            the_file.write(asin)\n",
    "            the_file.write(',')\n",
    "            the_file.write(question.replace(',', ''))\n",
    "            the_file.write(',')\n",
    "            the_file.write(review.replace(',', ''))\n",
    "            the_file.write('\\n')"
   ]
  },
  {
   "cell_type": "code",
   "execution_count": null,
   "metadata": {},
   "outputs": [],
   "source": []
  },
  {
   "cell_type": "code",
   "execution_count": null,
   "metadata": {},
   "outputs": [],
   "source": []
  }
 ],
 "metadata": {
  "kernelspec": {
   "display_name": "Python 3",
   "language": "python",
   "name": "python3"
  },
  "language_info": {
   "codemirror_mode": {
    "name": "ipython",
    "version": 3
   },
   "file_extension": ".py",
   "mimetype": "text/x-python",
   "name": "python",
   "nbconvert_exporter": "python",
   "pygments_lexer": "ipython3",
   "version": "3.6.4"
  }
 },
 "nbformat": 4,
 "nbformat_minor": 2
}
